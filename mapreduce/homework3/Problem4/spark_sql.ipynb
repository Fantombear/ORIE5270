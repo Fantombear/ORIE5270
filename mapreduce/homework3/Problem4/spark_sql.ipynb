{
 "cells": [
  {
   "cell_type": "code",
   "execution_count": 1,
   "metadata": {},
   "outputs": [
    {
     "name": "stdout",
     "output_type": "stream",
     "text": [
      "Welcome to\n",
      "      ____              __\n",
      "     / __/__  ___ _____/ /__\n",
      "    _\\ \\/ _ \\/ _ `/ __/  '_/\n",
      "   /__ / .__/\\_,_/_/ /_/\\_\\   version 2.2.1\n",
      "      /_/\n",
      "\n",
      "Using Python version 3.6.3 (default, Oct 13 2017 12:02:49)\n",
      "SparkSession available as 'spark'.\n"
     ]
    }
   ],
   "source": [
    "import os\n",
    "import sys\n",
    "spark_home = os.environ.get('SPARK_HOME', None)\n",
    "sys.path.insert(0, os.path.join(spark_home, 'python/lib/py4j-0.10.4-src.zip'))\n",
    "sys.path.insert(0, os.path.join(spark_home, 'python'))\n",
    "exec(open(os.path.join(os.environ[\"SPARK_HOME\"], 'python/pyspark/shell.py')).read())\n",
    "os.environ['PYSPARK_SUBMIT_ARGS'] = '--jars postgresql-42.2.0.jar --driver-class-path postgresql-42.2.0.jar'"
   ]
  },
  {
   "cell_type": "code",
   "execution_count": 2,
   "metadata": {
    "collapsed": true
   },
   "outputs": [],
   "source": [
    "import shutil\n",
    "import re\n",
    "import itertools\n",
    "import time\n",
    "from pyspark import SparkConf, SparkContext\n",
    "from pyspark.sql import SQLContext\n",
    "from pyspark.sql.types import Row, StructField, StructType, StringType, IntegerType\n",
    "sqlContext = SQLContext(sc)\n",
    "filename=\"test_data_20141201.txt\""
   ]
  },
  {
   "cell_type": "code",
   "execution_count": 3,
   "metadata": {
    "collapsed": true
   },
   "outputs": [],
   "source": [
    "raw_data=sc.textFile(filename).map(lambda l:re.split(' |,', l))\n",
    "data=raw_data.map(lambda l: (l[0],l[1][0],l[1][14:21],l[1][-1]))\n",
    "schema = StructType([StructField(\"timestamp\", StringType(), False),StructField(\"type\", StringType(), False),StructField(\"id\",StringType(),False),StructField(\"order type\",StringType(),False)])"
   ]
  },
  {
   "cell_type": "code",
   "execution_count": 4,
   "metadata": {
    "collapsed": true
   },
   "outputs": [],
   "source": [
    "data_df = sqlContext.createDataFrame(data, schema)"
   ]
  },
  {
   "cell_type": "code",
   "execution_count": 5,
   "metadata": {},
   "outputs": [
    {
     "name": "stdout",
     "output_type": "stream",
     "text": [
      "+-----------+----+-------+----------+\n",
      "|  timestamp|type|     id|order type|\n",
      "+-----------+----+-------+----------+\n",
      "|092930003PA|   T|0042780|         C|\n",
      "|093001173NA|   O|0042690|         C|\n",
      "|093001293DA|   4|0042690|         T|\n",
      "|093001507TA|   I|0042650|         C|\n",
      "|093001507TA|   Q|0042650|         C|\n",
      "|093004113DA|   @|0042710|         T|\n",
      "|093004113DA|   @|0042730|         T|\n",
      "|093004149PA|   Q|0042720|         C|\n",
      "|093004149PA|   O|0042720|         C|\n",
      "|093004149PA|   @|0042730|         C|\n",
      "|093004150KA|   F|0042710|         C|\n",
      "|093004150TA|   F|0042710|         C|\n",
      "|093004150TA|   F|0042720|         C|\n",
      "|093004194DA|   @|0042675|         T|\n",
      "|093004197DA|   @|0042675|         T|\n",
      "|093004230TA|   @|0042620|         C|\n",
      "|093004230TA|   @|0042620|         C|\n",
      "|093004231NA|   @|0042620|         C|\n",
      "|093004301DA|   4|0004269|         T|\n",
      "|093004313DA|   @|0042675|         T|\n",
      "+-----------+----+-------+----------+\n",
      "only showing top 20 rows\n",
      "\n"
     ]
    }
   ],
   "source": [
    "data_df.show()"
   ]
  },
  {
   "cell_type": "code",
   "execution_count": 12,
   "metadata": {
    "collapsed": true
   },
   "outputs": [],
   "source": [
    "url=\"jdbc:postgresql://dbbigdata.czzdxt0nkcse.us-east-2.rds.amazonaws.com:5432/bigData?user=linxy0331&password=xy...1234\""
   ]
  },
  {
   "cell_type": "code",
   "execution_count": 13,
   "metadata": {},
   "outputs": [
    {
     "name": "stdout",
     "output_type": "stream",
     "text": [
      "+---+-----------+--------------------+\n",
      "| id|          a|                   b|\n",
      "+---+-----------+--------------------+\n",
      "|  1|092930003PA|T-000000165000004...|\n",
      "|  2|093001173NA|O-000027027000004...|\n",
      "|  3|093001293DA|4-000007000000004...|\n",
      "|  4|093001507TA|I-000000002000004...|\n",
      "|  5|093001507TA|Q-000000002000004...|\n",
      "|  6|093004113DA|@-000000100000004...|\n",
      "|  7|093004113DA|@-000000100000004...|\n",
      "|  8|093004149PA|Q-000000100000004...|\n",
      "|  9|093004149PA|O-000000100000004...|\n",
      "| 10|093004149PA|@-000000100000004...|\n",
      "| 11|093004150KA|F-000000100000004...|\n",
      "| 12|093004150TA|F-000000100000004...|\n",
      "| 13|093004150TA|F-000000100000004...|\n",
      "| 14|093004194DA|@-000000800000004...|\n",
      "| 15|093004197DA|@-000000900000004...|\n",
      "| 16|093004230TA|@-000000100000004...|\n",
      "| 17|093004230TA|@-000000100000004...|\n",
      "| 18|093004231NA|@-000000200000004...|\n",
      "| 19|093004301DA|4-I00000000900000...|\n",
      "| 20|093004313DA|@-000000200000004...|\n",
      "+---+-----------+--------------------+\n",
      "only showing top 20 rows\n",
      "\n"
     ]
    }
   ],
   "source": [
    "df=sqlContext.read.format(\"jdbc\").options(url=url,dbtable=\"trading_20141201\",driver=\"org.postgresql.Driver\").load()\n",
    "df.show()"
   ]
  },
  {
   "cell_type": "code",
   "execution_count": 31,
   "metadata": {
    "collapsed": true
   },
   "outputs": [],
   "source": [
    "data_df.write.jdbc(url,\"trade_20141201\",mode=\"overwrite\")"
   ]
  },
  {
   "cell_type": "code",
   "execution_count": 34,
   "metadata": {},
   "outputs": [
    {
     "name": "stdout",
     "output_type": "stream",
     "text": [
      "+-----------+----+-------+----------+\n",
      "|  timestamp|type|     id|order type|\n",
      "+-----------+----+-------+----------+\n",
      "|092930003PA|   T|0042780|         C|\n",
      "|093001173NA|   O|0042690|         C|\n",
      "|093001293DA|   4|0042690|         T|\n",
      "|093001507TA|   I|0042650|         C|\n",
      "|093001507TA|   Q|0042650|         C|\n",
      "|093004113DA|   @|0042710|         T|\n",
      "|093004113DA|   @|0042730|         T|\n",
      "|093004149PA|   Q|0042720|         C|\n",
      "|093004149PA|   O|0042720|         C|\n",
      "|093004149PA|   @|0042730|         C|\n",
      "|093004150KA|   F|0042710|         C|\n",
      "|093004150TA|   F|0042710|         C|\n",
      "|093004150TA|   F|0042720|         C|\n",
      "|093004194DA|   @|0042675|         T|\n",
      "|093004197DA|   @|0042675|         T|\n",
      "|093004230TA|   @|0042620|         C|\n",
      "|093004230TA|   @|0042620|         C|\n",
      "|093004231NA|   @|0042620|         C|\n",
      "|093004301DA|   4|0004269|         T|\n",
      "|093004313DA|   @|0042675|         T|\n",
      "+-----------+----+-------+----------+\n",
      "only showing top 20 rows\n",
      "\n"
     ]
    }
   ],
   "source": [
    "df_1=sqlContext.read.format(\"jdbc\").options(url=url,dbtable=\"trade_20141201\",driver=\"org.postgresql.Driver\").load()\n",
    "df_1.show()"
   ]
  },
  {
   "cell_type": "code",
   "execution_count": 27,
   "metadata": {},
   "outputs": [
    {
     "ename": "ModuleNotFoundError",
     "evalue": "No module named 'pytorch'",
     "output_type": "error",
     "traceback": [
      "\u001b[0;31m---------------------------------------------------------------------------\u001b[0m",
      "\u001b[0;31mModuleNotFoundError\u001b[0m                       Traceback (most recent call last)",
      "\u001b[0;32m<ipython-input-27-ad77e2e88dd6>\u001b[0m in \u001b[0;36m<module>\u001b[0;34m()\u001b[0m\n\u001b[0;32m----> 1\u001b[0;31m \u001b[0;32mimport\u001b[0m \u001b[0mpytorch\u001b[0m\u001b[0;34m\u001b[0m\u001b[0m\n\u001b[0m",
      "\u001b[0;31mModuleNotFoundError\u001b[0m: No module named 'pytorch'"
     ]
    }
   ],
   "source": [
    "import pytorch"
   ]
  }
 ],
 "metadata": {
  "kernelspec": {
   "display_name": "Python 3",
   "language": "python",
   "name": "python3"
  },
  "language_info": {
   "codemirror_mode": {
    "name": "ipython",
    "version": 3
   },
   "file_extension": ".py",
   "mimetype": "text/x-python",
   "name": "python",
   "nbconvert_exporter": "python",
   "pygments_lexer": "ipython3",
   "version": "3.6.4"
  }
 },
 "nbformat": 4,
 "nbformat_minor": 2
}
